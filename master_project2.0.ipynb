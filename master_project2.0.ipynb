{
 "cells": [
  {
   "cell_type": "markdown",
   "metadata": {},
   "source": [
    "# importing libraries"
   ]
  },
  {
   "cell_type": "code",
   "execution_count": 88,
   "metadata": {},
   "outputs": [],
   "source": [
    "from pandas import Series,DataFrame\n",
    "import numpy as np\n",
    "import pandas as pd\n",
    "import matplotlib.pyplot as plt\n",
    "%matplotlib inline\n",
    "import seaborn as sns\n",
    "sns.set_style(\"whitegrid\")\n",
    "import statistics\n",
    "from scipy import stats"
   ]
  },
  {
   "cell_type": "code",
   "execution_count": 2,
   "metadata": {},
   "outputs": [],
   "source": [
    "from sklearn.linear_model import LinearRegression,LogisticRegression\n",
    "from sklearn.tree import DecisionTreeClassifier\n",
    "from sklearn.ensemble import RandomForestClassifier,AdaBoostClassifier,GradientBoostingClassifier\n",
    "import xgboost as xgb\n",
    "from sklearn.model_selection import train_test_split\n",
    "from sklearn.metrics import accuracy_score,confusion_matrix,mean_squared_error\n",
    "from sklearn import preprocessing\n",
    "from sklearn.preprocessing import PolynomialFeatures "
   ]
  },
  {
   "cell_type": "code",
   "execution_count": 107,
   "metadata": {},
   "outputs": [],
   "source": [
    "from statsmodels.formula.api import ols"
   ]
  },
  {
   "cell_type": "code",
   "execution_count": 3,
   "metadata": {},
   "outputs": [],
   "source": [
    "from sklearn.model_selection import RandomizedSearchCV,GridSearchCV"
   ]
  },
  {
   "cell_type": "markdown",
   "metadata": {},
   "source": [
    "# importing data"
   ]
  },
  {
   "cell_type": "code",
   "execution_count": 4,
   "metadata": {},
   "outputs": [
    {
     "data": {
      "text/html": [
       "<div>\n",
       "<style scoped>\n",
       "    .dataframe tbody tr th:only-of-type {\n",
       "        vertical-align: middle;\n",
       "    }\n",
       "\n",
       "    .dataframe tbody tr th {\n",
       "        vertical-align: top;\n",
       "    }\n",
       "\n",
       "    .dataframe thead th {\n",
       "        text-align: right;\n",
       "    }\n",
       "</style>\n",
       "<table border=\"1\" class=\"dataframe\">\n",
       "  <thead>\n",
       "    <tr style=\"text-align: right;\">\n",
       "      <th></th>\n",
       "      <th>Music</th>\n",
       "      <th>Slow songs or fast songs</th>\n",
       "      <th>Dance</th>\n",
       "      <th>Folk</th>\n",
       "      <th>Country</th>\n",
       "      <th>Classical music</th>\n",
       "      <th>Musical</th>\n",
       "      <th>Pop</th>\n",
       "      <th>Rock</th>\n",
       "      <th>Metal or Hardrock</th>\n",
       "      <th>...</th>\n",
       "      <th>Age</th>\n",
       "      <th>Height</th>\n",
       "      <th>Weight</th>\n",
       "      <th>Number of siblings</th>\n",
       "      <th>Gender</th>\n",
       "      <th>Left - right handed</th>\n",
       "      <th>Education</th>\n",
       "      <th>Only child</th>\n",
       "      <th>Village - town</th>\n",
       "      <th>House - block of flats</th>\n",
       "    </tr>\n",
       "  </thead>\n",
       "  <tbody>\n",
       "    <tr>\n",
       "      <th>0</th>\n",
       "      <td>5.0</td>\n",
       "      <td>3.0</td>\n",
       "      <td>2.0</td>\n",
       "      <td>1.0</td>\n",
       "      <td>2.0</td>\n",
       "      <td>2.0</td>\n",
       "      <td>1.0</td>\n",
       "      <td>5.0</td>\n",
       "      <td>5.0</td>\n",
       "      <td>1.0</td>\n",
       "      <td>...</td>\n",
       "      <td>20.0</td>\n",
       "      <td>163.0</td>\n",
       "      <td>48.0</td>\n",
       "      <td>1.0</td>\n",
       "      <td>female</td>\n",
       "      <td>right handed</td>\n",
       "      <td>college/bachelor degree</td>\n",
       "      <td>no</td>\n",
       "      <td>village</td>\n",
       "      <td>block of flats</td>\n",
       "    </tr>\n",
       "  </tbody>\n",
       "</table>\n",
       "<p>1 rows × 150 columns</p>\n",
       "</div>"
      ],
      "text/plain": [
       "   Music  Slow songs or fast songs  Dance  Folk  Country  Classical music  \\\n",
       "0    5.0                       3.0    2.0   1.0      2.0              2.0   \n",
       "\n",
       "   Musical  Pop  Rock  Metal or Hardrock           ...             Age  \\\n",
       "0      1.0  5.0   5.0                1.0           ...            20.0   \n",
       "\n",
       "   Height  Weight  Number of siblings  Gender  Left - right handed  \\\n",
       "0   163.0    48.0                 1.0  female         right handed   \n",
       "\n",
       "                 Education  Only child  Village - town  House - block of flats  \n",
       "0  college/bachelor degree          no         village          block of flats  \n",
       "\n",
       "[1 rows x 150 columns]"
      ]
     },
     "execution_count": 4,
     "metadata": {},
     "output_type": "execute_result"
    }
   ],
   "source": [
    "df=pd.read_csv(\"responses.csv\")\n",
    "df.head(1)"
   ]
  },
  {
   "cell_type": "markdown",
   "metadata": {},
   "source": [
    "# function_box"
   ]
  },
  {
   "cell_type": "code",
   "execution_count": 5,
   "metadata": {},
   "outputs": [],
   "source": [
    "def replacer_mean(dff):\n",
    "    r0=np.mean(df1)\n",
    "    r1=r0.index\n",
    "    r2=r0.values\n",
    "    for i in np.arange(len(r1)):\n",
    "          ri=r1[i]\n",
    "          rv=r2[i]\n",
    "          dff[ri].fillna(value=rv)\n",
    "          dff.replace([np.inf,-np.inf],rv)\n",
    "    return(dff)\n",
    "\n",
    "def nan_remover(v,vm):\n",
    "    vr=[]\n",
    "    for i in np.arange(len(v)):\n",
    "        if str(v[i])==\"nan\":\n",
    "            vr=np.append(vr,vm)\n",
    "        else:\n",
    "            vr=np.append(vr,v[i])\n",
    "    return(vr)\n",
    "\n",
    "def replacer_mean(dff):\n",
    "    dff1=dff\n",
    "    r0=np.mean(dff)\n",
    "    r1=r0.index\n",
    "    r2=r0.values\n",
    "    for i in np.arange(len(r1)):\n",
    "          ri=r1[i]\n",
    "          rv=r2[i]\n",
    "          dff1[ri].fillna(value=rv)\n",
    "          dff1[ri]=(nan_remover(dff[ri].values,rv))\n",
    "    return(dff1)\n",
    "\n",
    "def numriser(a):\n",
    "    a1=[]\n",
    "    for i in np.arange(len(a)):\n",
    "        a1=np.append(a1,round(a[i]))\n",
    "    return(a1)\n",
    "\n",
    "def pie_plotter(var):\n",
    "    dfm=pd.get_dummies(df[var])\n",
    "    sm=(dfm.sum())\n",
    "    #plt.subplot(2, 1, 1)\n",
    "    #sm.plot(kind=\"pie\",figsize=(10,10),fontsize=10,title=var,table=True)\n",
    "    #plt.subplot(2, 1, 2)\n",
    "    df1[var].plot(figsize=(10,10),kind=\"kde\")\n",
    "\n",
    "def bi_var(var1,var2,dff):\n",
    "\n",
    "    sns.lmplot(var1,var2,dff,order=1,scatter=False,\n",
    "           scatter_kws={\"marker\":\"o\",\"color\":\"red\"},\n",
    "              line_kws={\"linewidth\":1,\"color\":\"blue\"})\n",
    "    r=np.corrcoef(dff[var1],dff[var2])[0,1]\n",
    "    print(\"correlation_coef between\",var1,\"and\",var2,\"is\",r)\n",
    "\n",
    "def counter(m):\n",
    "    u=[1,2,3,4,5]\n",
    "    n=len(m)\n",
    "    s1=[]\n",
    "    for i in u:\n",
    "        s=0\n",
    "        for j in np.arange(n):\n",
    "            if i==m[j]:\n",
    "                s=s+1\n",
    "        s1=np.append(s1,s)\n",
    "    return(s1)\n",
    "\n",
    "def counter2(m):\n",
    "    u=np.unique(m)\n",
    "    n=len(m)\n",
    "    s1=[]\n",
    "    for i in u:\n",
    "        s=0\n",
    "        for j in np.arange(n):\n",
    "            if i==m[j]:\n",
    "                s=s+1\n",
    "        s1=np.append(s1,s)\n",
    "    s11=DataFrame(s1,index=u).T\n",
    "    return(s11)\n",
    "\n",
    "def dpie_plotter(var,al):\n",
    "    labels1=np.unique(df_r[al])\n",
    "    labels=labels1[::-1] \n",
    "    dfm=pd.get_dummies(df1[var],columns=labels)\n",
    "    sm=(dfm.sum())\n",
    "    plt.subplot(2, 1, 1)\n",
    "    sm.plot(kind=\"pie\",figsize=(10,10),fontsize=10,title=\"Training data set\",table=True,autopct='%1.1f%%')\n",
    "    plt.subplot(2, 1, 2)\n",
    "    dfm=pd.get_dummies(df_r2[var],columns=labels)\n",
    "    sm1=(dfm.sum())\n",
    "    sm1.plot(kind=\"pie\",figsize=(10,10),fontsize=10,title=\"Response data set\",table=True,autopct='%1.1f%%')\n",
    "    plt.legend(labels, loc=\"best\")\n",
    "\n",
    "def happiness(n):\n",
    "    for i in np.arange(len(dfr_pre[\"Name\"].values)):\n",
    "        if dfr_pre[\"Name\"][i]==n:\n",
    "            hpp=dfr_pre[\"index of happiness\"][i]\n",
    "        if dfr_pre[\"Name\"][i]==n:\n",
    "            hpi=dfi_pre[\"index of happiness\"][i]\n",
    "    if hpp==1:\n",
    "        hpr=\"you are really not happy and your index of happiness is \"\n",
    "    elif hpp==2:\n",
    "        hpr=\"you are not very much happy and your index of happiness is \"\n",
    "    else:\n",
    "        hpr=\"you are very happy and your index of happiness is \"\n",
    "    print(n,hpr,hpi,\".\")"
   ]
  },
  {
   "cell_type": "markdown",
   "metadata": {},
   "source": [
    "# subsetting_data"
   ]
  },
  {
   "cell_type": "code",
   "execution_count": 6,
   "metadata": {},
   "outputs": [],
   "source": [
    "y=df[\"Happiness in life\"]"
   ]
  },
  {
   "cell_type": "code",
   "execution_count": 7,
   "metadata": {},
   "outputs": [],
   "source": [
    "df1=df[[\"Dance\",\"Shopping\",\"Fun with friends\",\"Parents' advice\",\"Eating to survive\",\n",
    "    \"Pets\",\"Darkness\",\"Fear of public speaking\",\"Smoking\",\"Alcohol\",\"Economy Management\",\"Healthy eating\",\n",
    "        \"Decision making\",\"Workaholism\",\"Friends versus money\",\"Loneliness\",\n",
    "   \"God\",\"Dreams\",\"Number of friends\",\"Socializing\",\"Entertainment spending\",\"Age\",\"Height\",\"Weight\",\n",
    "   \"Gender\",\"Only child\",\"Village - town\",\"Internet usage\"]]"
   ]
  },
  {
   "cell_type": "code",
   "execution_count": 8,
   "metadata": {},
   "outputs": [
    {
     "data": {
      "text/html": [
       "<div>\n",
       "<style scoped>\n",
       "    .dataframe tbody tr th:only-of-type {\n",
       "        vertical-align: middle;\n",
       "    }\n",
       "\n",
       "    .dataframe tbody tr th {\n",
       "        vertical-align: top;\n",
       "    }\n",
       "\n",
       "    .dataframe thead th {\n",
       "        text-align: right;\n",
       "    }\n",
       "</style>\n",
       "<table border=\"1\" class=\"dataframe\">\n",
       "  <thead>\n",
       "    <tr style=\"text-align: right;\">\n",
       "      <th></th>\n",
       "      <th>Dance</th>\n",
       "      <th>Shopping</th>\n",
       "      <th>Fun with friends</th>\n",
       "      <th>Parents' advice</th>\n",
       "      <th>Eating to survive</th>\n",
       "      <th>Pets</th>\n",
       "      <th>Darkness</th>\n",
       "      <th>Fear of public speaking</th>\n",
       "      <th>Smoking</th>\n",
       "      <th>Alcohol</th>\n",
       "      <th>...</th>\n",
       "      <th>Number of friends</th>\n",
       "      <th>Socializing</th>\n",
       "      <th>Entertainment spending</th>\n",
       "      <th>Age</th>\n",
       "      <th>Height</th>\n",
       "      <th>Weight</th>\n",
       "      <th>Gender</th>\n",
       "      <th>Only child</th>\n",
       "      <th>Village - town</th>\n",
       "      <th>Internet usage</th>\n",
       "    </tr>\n",
       "  </thead>\n",
       "  <tbody>\n",
       "    <tr>\n",
       "      <th>0</th>\n",
       "      <td>2.0</td>\n",
       "      <td>4.0</td>\n",
       "      <td>5.0</td>\n",
       "      <td>4.0</td>\n",
       "      <td>1</td>\n",
       "      <td>4.0</td>\n",
       "      <td>1.0</td>\n",
       "      <td>2.0</td>\n",
       "      <td>never smoked</td>\n",
       "      <td>drink a lot</td>\n",
       "      <td>...</td>\n",
       "      <td>3</td>\n",
       "      <td>3.0</td>\n",
       "      <td>3.0</td>\n",
       "      <td>20.0</td>\n",
       "      <td>163.0</td>\n",
       "      <td>48.0</td>\n",
       "      <td>female</td>\n",
       "      <td>no</td>\n",
       "      <td>village</td>\n",
       "      <td>few hours a day</td>\n",
       "    </tr>\n",
       "  </tbody>\n",
       "</table>\n",
       "<p>1 rows × 28 columns</p>\n",
       "</div>"
      ],
      "text/plain": [
       "   Dance  Shopping  Fun with friends  Parents' advice  Eating to survive  \\\n",
       "0    2.0       4.0               5.0              4.0                  1   \n",
       "\n",
       "   Pets  Darkness  Fear of public speaking       Smoking      Alcohol  \\\n",
       "0   4.0       1.0                      2.0  never smoked  drink a lot   \n",
       "\n",
       "        ...         Number of friends  Socializing  Entertainment spending  \\\n",
       "0       ...                         3          3.0                     3.0   \n",
       "\n",
       "    Age  Height  Weight  Gender  Only child  Village - town   Internet usage  \n",
       "0  20.0   163.0    48.0  female          no         village  few hours a day  \n",
       "\n",
       "[1 rows x 28 columns]"
      ]
     },
     "execution_count": 8,
     "metadata": {},
     "output_type": "execute_result"
    }
   ],
   "source": [
    "df1.head(1)"
   ]
  },
  {
   "cell_type": "code",
   "execution_count": 9,
   "metadata": {},
   "outputs": [],
   "source": [
    "df_music=(df[df.columns[0:19]])\n",
    "music=numriser(np.mean(df_music.T))\n",
    "df_movies=(df[df.columns[19:33]])\n",
    "movies=numriser(np.mean(df_movies.T))\n",
    "\n",
    "edu=[]\n",
    "for i in (df[\"Education\"].values):\n",
    "    if i==\"secondary school\":\n",
    "        edu=np.append(edu,1)\n",
    "    elif i==\"masters degree\":\n",
    "        edu=np.append(edu,2)\n",
    "    elif i==\"college/bachelor degree\":\n",
    "        edu=np.append(edu,3)\n",
    "    elif i==\"doctorate degree\":\n",
    "        edu=np.append(edu,4)\n",
    "    else:\n",
    "        edu=np.append(edu,5)"
   ]
  },
  {
   "cell_type": "code",
   "execution_count": 10,
   "metadata": {},
   "outputs": [
    {
     "name": "stderr",
     "output_type": "stream",
     "text": [
      "c:\\users\\dell\\appdata\\local\\programs\\python\\python37\\lib\\site-packages\\ipykernel_launcher.py:60: SettingWithCopyWarning: \n",
      "A value is trying to be set on a copy of a slice from a DataFrame.\n",
      "Try using .loc[row_indexer,col_indexer] = value instead\n",
      "\n",
      "See the caveats in the documentation: http://pandas.pydata.org/pandas-docs/stable/indexing.html#indexing-view-versus-copy\n",
      "c:\\users\\dell\\appdata\\local\\programs\\python\\python37\\lib\\site-packages\\ipykernel_launcher.py:61: SettingWithCopyWarning: \n",
      "A value is trying to be set on a copy of a slice from a DataFrame.\n",
      "Try using .loc[row_indexer,col_indexer] = value instead\n",
      "\n",
      "See the caveats in the documentation: http://pandas.pydata.org/pandas-docs/stable/indexing.html#indexing-view-versus-copy\n",
      "c:\\users\\dell\\appdata\\local\\programs\\python\\python37\\lib\\site-packages\\ipykernel_launcher.py:62: SettingWithCopyWarning: \n",
      "A value is trying to be set on a copy of a slice from a DataFrame.\n",
      "Try using .loc[row_indexer,col_indexer] = value instead\n",
      "\n",
      "See the caveats in the documentation: http://pandas.pydata.org/pandas-docs/stable/indexing.html#indexing-view-versus-copy\n",
      "c:\\users\\dell\\appdata\\local\\programs\\python\\python37\\lib\\site-packages\\ipykernel_launcher.py:63: SettingWithCopyWarning: \n",
      "A value is trying to be set on a copy of a slice from a DataFrame.\n",
      "Try using .loc[row_indexer,col_indexer] = value instead\n",
      "\n",
      "See the caveats in the documentation: http://pandas.pydata.org/pandas-docs/stable/indexing.html#indexing-view-versus-copy\n",
      "c:\\users\\dell\\appdata\\local\\programs\\python\\python37\\lib\\site-packages\\ipykernel_launcher.py:64: SettingWithCopyWarning: \n",
      "A value is trying to be set on a copy of a slice from a DataFrame.\n",
      "Try using .loc[row_indexer,col_indexer] = value instead\n",
      "\n",
      "See the caveats in the documentation: http://pandas.pydata.org/pandas-docs/stable/indexing.html#indexing-view-versus-copy\n",
      "c:\\users\\dell\\appdata\\local\\programs\\python\\python37\\lib\\site-packages\\ipykernel_launcher.py:65: SettingWithCopyWarning: \n",
      "A value is trying to be set on a copy of a slice from a DataFrame.\n",
      "Try using .loc[row_indexer,col_indexer] = value instead\n",
      "\n",
      "See the caveats in the documentation: http://pandas.pydata.org/pandas-docs/stable/indexing.html#indexing-view-versus-copy\n",
      "c:\\users\\dell\\appdata\\local\\programs\\python\\python37\\lib\\site-packages\\ipykernel_launcher.py:66: SettingWithCopyWarning: \n",
      "A value is trying to be set on a copy of a slice from a DataFrame.\n",
      "Try using .loc[row_indexer,col_indexer] = value instead\n",
      "\n",
      "See the caveats in the documentation: http://pandas.pydata.org/pandas-docs/stable/indexing.html#indexing-view-versus-copy\n",
      "c:\\users\\dell\\appdata\\local\\programs\\python\\python37\\lib\\site-packages\\ipykernel_launcher.py:67: SettingWithCopyWarning: \n",
      "A value is trying to be set on a copy of a slice from a DataFrame.\n",
      "Try using .loc[row_indexer,col_indexer] = value instead\n",
      "\n",
      "See the caveats in the documentation: http://pandas.pydata.org/pandas-docs/stable/indexing.html#indexing-view-versus-copy\n",
      "c:\\users\\dell\\appdata\\local\\programs\\python\\python37\\lib\\site-packages\\ipykernel_launcher.py:68: SettingWithCopyWarning: \n",
      "A value is trying to be set on a copy of a slice from a DataFrame.\n",
      "Try using .loc[row_indexer,col_indexer] = value instead\n",
      "\n",
      "See the caveats in the documentation: http://pandas.pydata.org/pandas-docs/stable/indexing.html#indexing-view-versus-copy\n",
      "c:\\users\\dell\\appdata\\local\\programs\\python\\python37\\lib\\site-packages\\ipykernel_launcher.py:69: SettingWithCopyWarning: \n",
      "A value is trying to be set on a copy of a slice from a DataFrame.\n",
      "Try using .loc[row_indexer,col_indexer] = value instead\n",
      "\n",
      "See the caveats in the documentation: http://pandas.pydata.org/pandas-docs/stable/indexing.html#indexing-view-versus-copy\n",
      "c:\\users\\dell\\appdata\\local\\programs\\python\\python37\\lib\\site-packages\\ipykernel_launcher.py:70: SettingWithCopyWarning: \n",
      "A value is trying to be set on a copy of a slice from a DataFrame.\n",
      "Try using .loc[row_indexer,col_indexer] = value instead\n",
      "\n",
      "See the caveats in the documentation: http://pandas.pydata.org/pandas-docs/stable/indexing.html#indexing-view-versus-copy\n"
     ]
    }
   ],
   "source": [
    "a7=[]\n",
    "for i in np.arange(len(df1[\"Height\"])):\n",
    "    a17=df1[\"Height\"][i]/df1[\"Weight\"][i]\n",
    "    a7=np.append(a7,a17)\n",
    "\n",
    "from sklearn import preprocessing\n",
    "sc=preprocessing.MinMaxScaler(feature_range=(1,5))\n",
    "a8=sc.fit_transform(df1[\"Age\"].values.reshape(-1,1))\n",
    "\n",
    "a1=[]\n",
    "for i in df1[\"Gender\"].values:\n",
    "    if i==\"female\":\n",
    "        a1=np.append(a1,0)\n",
    "    else:\n",
    "        a1=np.append(a1,1)\n",
    "\n",
    "a2=[]\n",
    "for i in df1[\"Only child\"].values:\n",
    "    if i==\"no\":\n",
    "        a2=np.append(a2,0)\n",
    "    else :\n",
    "        a2=np.append(a2,1)\n",
    "\n",
    "a3=[]\n",
    "for i in df1[\"Village - town\"].values:\n",
    "    if i==\"village\":\n",
    "        a3=np.append(a3,1)\n",
    "    else:\n",
    "        a3=np.append(a3,0)\n",
    "\n",
    "a4=[]\n",
    "for i in df1[\"Internet usage\"].values:\n",
    "    if i==\"few hours a day\":\n",
    "        a4=np.append(a4,0)\n",
    "    elif i==\"less than an hour a day\":\n",
    "        a4=np.append(a4,1)\n",
    "    else :\n",
    "        a4=np.append(a4,2)\n",
    "\n",
    "a5=[]\n",
    "for i in df1[\"Smoking\"].values:\n",
    "    if i==\"never smoked\":\n",
    "        a5=np.append(a5,0)\n",
    "    elif i==\"tried smoking\":\n",
    "        a5=np.append(a5,1)\n",
    "    elif i==\"former smoker\":\n",
    "        a5=np.append(a5,2)\n",
    "    else:\n",
    "        a5=np.append(a5,3)\n",
    "\n",
    "a6=[]\n",
    "for i in df1[\"Alcohol\"]:\n",
    "    if i==\"drink a lot\":\n",
    "        a6=np.append(a6,0)\n",
    "    elif i==\"social drinker\":\n",
    "        a6=np.append(a6,1)\n",
    "    else:\n",
    "        a6=np.append(a6,2)\n",
    "\n",
    "df1[\"hw_rat\"]=a7\n",
    "df1[\"age\"]=a8\n",
    "df1[\"gender\"]=a1\n",
    "df1[\"alcohol\"]=a6\n",
    "df1[\"smoke\"]=a5\n",
    "df1[\"only_child\"]=a2\n",
    "df1[\"area\"]=a3\n",
    "df1[\"internet\"]=a4\n",
    "df1[\"music\"]=music\n",
    "df1[\"movie\"]=movies\n",
    "df1[\"education\"]=edu\n",
    "\n",
    "df1=df1.drop([\"Height\",\"Weight\",\"Age\",\"Gender\",\"Only child\",\"Internet usage\",\"Smoking\",\"Village - town\",\"Alcohol\"],axis=1)\n"
   ]
  },
  {
   "cell_type": "markdown",
   "metadata": {},
   "source": [
    "# removing NA and NAN values"
   ]
  },
  {
   "cell_type": "code",
   "execution_count": 11,
   "metadata": {},
   "outputs": [],
   "source": [
    "dfy=DataFrame(y)\n",
    "dfy=dfy.fillna(value=np.mean(y))\n",
    "dfy=DataFrame(nan_remover(dfy[\"Happiness in life\"].values,np.mean(y)))"
   ]
  },
  {
   "cell_type": "code",
   "execution_count": 12,
   "metadata": {},
   "outputs": [],
   "source": [
    "r0=(np.mean(df1))\n",
    "r1=r0.index\n",
    "r2=r0.values"
   ]
  },
  {
   "cell_type": "code",
   "execution_count": 13,
   "metadata": {},
   "outputs": [],
   "source": [
    "df2=df1\n",
    "df1=replacer_mean(df2)"
   ]
  },
  {
   "cell_type": "markdown",
   "metadata": {},
   "source": [
    "# training of data"
   ]
  },
  {
   "cell_type": "code",
   "execution_count": 14,
   "metadata": {},
   "outputs": [],
   "source": [
    "x1=df1.values"
   ]
  },
  {
   "cell_type": "code",
   "execution_count": 15,
   "metadata": {},
   "outputs": [],
   "source": [
    "y1=dfy.values"
   ]
  },
  {
   "cell_type": "code",
   "execution_count": 16,
   "metadata": {},
   "outputs": [],
   "source": [
    "y2=[]\n",
    "for i in np.arange(len(y1)):\n",
    "    if (y1[i]<2.5):\n",
    "        y2=np.append(y2,1)\n",
    "    elif (y1[i]>3.5):\n",
    "        y2=np.append(y2,3)\n",
    "    else:\n",
    "        y2=np.append(y2,2)"
   ]
  },
  {
   "cell_type": "code",
   "execution_count": 17,
   "metadata": {},
   "outputs": [],
   "source": [
    "x_train,x_test,y_train,y_test=train_test_split(x1,y2,test_size=0.33,random_state=42)"
   ]
  },
  {
   "cell_type": "code",
   "execution_count": 18,
   "metadata": {},
   "outputs": [],
   "source": [
    "model_xg=xgb.XGBClassifier(base_score=0.5, \n",
    "                           booster='dart', \n",
    "                           colsample_bylevel=1,\n",
    "                           colsample_bynode=1, \n",
    "                           colsample_bytree=.4,\n",
    "                           gamma=0.2,\n",
    "                           importance_type='gain', \n",
    "                           learning_rate=0.1, \n",
    "                           max_delta_step=0,\n",
    "                           max_depth=2, min_child_weight=3, missing=None, n_estimators=100,\n",
    "                           n_jobs=1, nthread=None, objective='reg:linear', random_state=0,\n",
    "                           reg_alpha=.2, reg_lambda=1, scale_pos_weight=1, seed=None,\n",
    "                           silent=None, subsample=1, verbosity=1)"
   ]
  },
  {
   "cell_type": "code",
   "execution_count": 19,
   "metadata": {},
   "outputs": [
    {
     "data": {
      "text/plain": [
       "XGBClassifier(base_score=0.5, booster='dart', colsample_bylevel=1,\n",
       "       colsample_bynode=1, colsample_bytree=0.4, gamma=0.2,\n",
       "       learning_rate=0.1, max_delta_step=0, max_depth=2,\n",
       "       min_child_weight=3, missing=None, n_estimators=100, n_jobs=1,\n",
       "       nthread=None, objective='multi:softprob', random_state=0,\n",
       "       reg_alpha=0.2, reg_lambda=1, scale_pos_weight=1, seed=None,\n",
       "       silent=None, subsample=1, verbosity=1)"
      ]
     },
     "execution_count": 19,
     "metadata": {},
     "output_type": "execute_result"
    }
   ],
   "source": [
    "model_xg.fit(x_train,y_train)"
   ]
  },
  {
   "cell_type": "code",
   "execution_count": 20,
   "metadata": {},
   "outputs": [
    {
     "data": {
      "text/plain": [
       "0.7588757396449705"
      ]
     },
     "execution_count": 20,
     "metadata": {},
     "output_type": "execute_result"
    }
   ],
   "source": [
    "y_pre=model_xg.predict(x_train)\n",
    "accuracy_score(numriser(DataFrame(y_pre)[0].values),(numriser(DataFrame(y_train)[0].values)))"
   ]
  },
  {
   "cell_type": "code",
   "execution_count": 21,
   "metadata": {},
   "outputs": [
    {
     "data": {
      "text/plain": [
       "0.7035928143712575"
      ]
     },
     "execution_count": 21,
     "metadata": {},
     "output_type": "execute_result"
    }
   ],
   "source": [
    "y_pre1=model_xg.predict(x_test)\n",
    "accuracy_score(numriser(DataFrame(y_pre1)[0].values),(numriser(DataFrame(y_test)[0].values)))"
   ]
  },
  {
   "cell_type": "code",
   "execution_count": 22,
   "metadata": {},
   "outputs": [
    {
     "data": {
      "text/html": [
       "<div>\n",
       "<style scoped>\n",
       "    .dataframe tbody tr th:only-of-type {\n",
       "        vertical-align: middle;\n",
       "    }\n",
       "\n",
       "    .dataframe tbody tr th {\n",
       "        vertical-align: top;\n",
       "    }\n",
       "\n",
       "    .dataframe thead th {\n",
       "        text-align: right;\n",
       "    }\n",
       "</style>\n",
       "<table border=\"1\" class=\"dataframe\">\n",
       "  <thead>\n",
       "    <tr style=\"text-align: right;\">\n",
       "      <th></th>\n",
       "      <th>predicted</th>\n",
       "      <th>observed</th>\n",
       "    </tr>\n",
       "  </thead>\n",
       "  <tbody>\n",
       "    <tr>\n",
       "      <th>0</th>\n",
       "      <td>3.0</td>\n",
       "      <td>3.0</td>\n",
       "    </tr>\n",
       "    <tr>\n",
       "      <th>1</th>\n",
       "      <td>3.0</td>\n",
       "      <td>2.0</td>\n",
       "    </tr>\n",
       "  </tbody>\n",
       "</table>\n",
       "</div>"
      ],
      "text/plain": [
       "   predicted  observed\n",
       "0        3.0       3.0\n",
       "1        3.0       2.0"
      ]
     },
     "execution_count": 22,
     "metadata": {},
     "output_type": "execute_result"
    }
   ],
   "source": [
    "df_pre1=DataFrame([numriser(DataFrame(y_pre1)[0].values),DataFrame(y_test)[0].values],index=[\"predicted\",\"observed\"]).T\n",
    "df_pre1.head(2)"
   ]
  },
  {
   "cell_type": "code",
   "execution_count": 23,
   "metadata": {},
   "outputs": [
    {
     "data": {
      "text/plain": [
       "<matplotlib.legend.Legend at 0x124d0384dd8>"
      ]
     },
     "execution_count": 23,
     "metadata": {},
     "output_type": "execute_result"
    },
    {
     "data": {
      "image/png": "[encoded data removed]",
      "text/plain": [
       "<Figure size 1080x360 with 1 Axes>"
      ]
     },
     "metadata": {
      "needs_background": "light"
     },
     "output_type": "display_data"
    }
   ],
   "source": [
    "df_pre1[\"predicted\"].plot(kind=\"kde\",label=True,figsize=(15,5),alpha=1)\n",
    "df_pre1[\"observed\"].plot(kind=\"kde\",label=True,figsize=(15,5),alpha=1)\n",
    "plt.title(\"predicted label of happiness\",fontsize=20)\n",
    "plt.xlabel(\"labels of happiness \",fontsize=20)\n",
    "plt.ylabel(\"frequency\",fontsize=20)\n",
    "plt.legend([\"predicted\",\"observed\"])"
   ]
  },
  {
   "cell_type": "markdown",
   "metadata": {},
   "source": [
    "# before importing the resposnes data file one neads to train upon the whole data set"
   ]
  },
  {
   "cell_type": "code",
   "execution_count": 24,
   "metadata": {},
   "outputs": [
    {
     "data": {
      "text/plain": [
       "XGBClassifier(base_score=0.5, booster='dart', colsample_bylevel=1,\n",
       "       colsample_bynode=1, colsample_bytree=0.4, gamma=0.2,\n",
       "       learning_rate=0.1, max_delta_step=0, max_depth=2,\n",
       "       min_child_weight=3, missing=None, n_estimators=100, n_jobs=1,\n",
       "       nthread=None, objective='multi:softprob', random_state=0,\n",
       "       reg_alpha=0.2, reg_lambda=1, scale_pos_weight=1, seed=None,\n",
       "       silent=None, subsample=1, verbosity=1)"
      ]
     },
     "execution_count": 24,
     "metadata": {},
     "output_type": "execute_result"
    }
   ],
   "source": [
    "model_xg.fit(x1,y2)"
   ]
  },
  {
   "cell_type": "code",
   "execution_count": 25,
   "metadata": {},
   "outputs": [],
   "source": [
    "y_pre1=model_xg.predict(x1)"
   ]
  },
  {
   "cell_type": "code",
   "execution_count": 26,
   "metadata": {},
   "outputs": [
    {
     "data": {
      "text/plain": [
       "0.7366336633663366"
      ]
     },
     "execution_count": 26,
     "metadata": {},
     "output_type": "execute_result"
    }
   ],
   "source": [
    "accuracy_score(numriser(DataFrame(y_pre1)[0].values),(numriser(DataFrame(y2)[0].values)))"
   ]
  },
  {
   "cell_type": "code",
   "execution_count": 27,
   "metadata": {},
   "outputs": [
    {
     "data": {
      "text/plain": [
       "<matplotlib.legend.Legend at 0x124d48422b0>"
      ]
     },
     "execution_count": 27,
     "metadata": {},
     "output_type": "execute_result"
    },
    {
     "data": {
      "image/png": "[encoded data removed]",
      "text/plain": [
       "<Figure size 1080x360 with 1 Axes>"
      ]
     },
     "metadata": {
      "needs_background": "light"
     },
     "output_type": "display_data"
    }
   ],
   "source": [
    "df_pre1=DataFrame([numriser(DataFrame(y_pre1)[0].values),DataFrame(y2)[0].values],index=[\"predicted\",\"observed\"]).T\n",
    "df_pre1[\"predicted\"].plot(kind=\"kde\",label=True,figsize=(15,5),alpha=1)\n",
    "df_pre1[\"observed\"].plot(kind=\"kde\",label=True,figsize=(15,5),alpha=1)\n",
    "plt.title(\"predicted label of happiness\",fontsize=20)\n",
    "plt.xlabel(\"labels of happiness \",fontsize=20)\n",
    "plt.ylabel(\"frequency\",fontsize=20)\n",
    "plt.legend([\"predicted\",\"observed\"])"
   ]
  },
  {
   "cell_type": "markdown",
   "metadata": {},
   "source": [
    "# importing response sheet "
   ]
  },
  {
   "cell_type": "code",
   "execution_count": 28,
   "metadata": {},
   "outputs": [
    {
     "data": {
      "text/html": [
       "<div>\n",
       "<style scoped>\n",
       "    .dataframe tbody tr th:only-of-type {\n",
       "        vertical-align: middle;\n",
       "    }\n",
       "\n",
       "    .dataframe tbody tr th {\n",
       "        vertical-align: top;\n",
       "    }\n",
       "\n",
       "    .dataframe thead th {\n",
       "        text-align: right;\n",
       "    }\n",
       "</style>\n",
       "<table border=\"1\" class=\"dataframe\">\n",
       "  <thead>\n",
       "    <tr style=\"text-align: right;\">\n",
       "      <th></th>\n",
       "      <th>Timestamp</th>\n",
       "      <th>Name</th>\n",
       "      <th>Comments about yourself (Hostel room number, Class, Department etc.)</th>\n",
       "      <th>Your email id</th>\n",
       "      <th>Age</th>\n",
       "      <th>Height (in feet)</th>\n",
       "      <th>Weight (in kgs)</th>\n",
       "      <th>Sex</th>\n",
       "      <th>Are you the only child of your parents?</th>\n",
       "      <th>Where did you spend most of you childhood?</th>\n",
       "      <th>...</th>\n",
       "      <th>How confident are you in taking important Decisions?</th>\n",
       "      <th>Are you a workaholic?</th>\n",
       "      <th>Which one is more important, friends or money?</th>\n",
       "      <th>How lonely are you?</th>\n",
       "      <th>Your belief in God</th>\n",
       "      <th>How often do you see dreams?</th>\n",
       "      <th>Do you have a lot of close friends?</th>\n",
       "      <th>How much do you socialize with others ?</th>\n",
       "      <th>Level of your spending on Entertainment</th>\n",
       "      <th>Internet usage in a day.</th>\n",
       "    </tr>\n",
       "  </thead>\n",
       "  <tbody>\n",
       "    <tr>\n",
       "      <th>78</th>\n",
       "      <td>19-03-2020 10:13</td>\n",
       "      <td>Sudhanshu Ranjan</td>\n",
       "      <td>Dst</td>\n",
       "      <td>sudhanshuranjan022@gmail.com</td>\n",
       "      <td>22.0</td>\n",
       "      <td>5.4</td>\n",
       "      <td>60</td>\n",
       "      <td>Male</td>\n",
       "      <td>No</td>\n",
       "      <td>City</td>\n",
       "      <td>...</td>\n",
       "      <td>1</td>\n",
       "      <td>5</td>\n",
       "      <td>2</td>\n",
       "      <td>1</td>\n",
       "      <td>1</td>\n",
       "      <td>1</td>\n",
       "      <td>1</td>\n",
       "      <td>1</td>\n",
       "      <td>1</td>\n",
       "      <td>More than an hour but less than 4 hours</td>\n",
       "    </tr>\n",
       "    <tr>\n",
       "      <th>79</th>\n",
       "      <td>19-03-2020 10:15</td>\n",
       "      <td>Sr</td>\n",
       "      <td>Sr</td>\n",
       "      <td>Sr</td>\n",
       "      <td>23.0</td>\n",
       "      <td>5.4</td>\n",
       "      <td>50</td>\n",
       "      <td>Male</td>\n",
       "      <td>No</td>\n",
       "      <td>City</td>\n",
       "      <td>...</td>\n",
       "      <td>1</td>\n",
       "      <td>5</td>\n",
       "      <td>1</td>\n",
       "      <td>1</td>\n",
       "      <td>1</td>\n",
       "      <td>1</td>\n",
       "      <td>1</td>\n",
       "      <td>1</td>\n",
       "      <td>1</td>\n",
       "      <td>More than 4 hours</td>\n",
       "    </tr>\n",
       "  </tbody>\n",
       "</table>\n",
       "<p>2 rows × 35 columns</p>\n",
       "</div>"
      ],
      "text/plain": [
       "           Timestamp              Name  \\\n",
       "78  19-03-2020 10:13  Sudhanshu Ranjan   \n",
       "79  19-03-2020 10:15                Sr   \n",
       "\n",
       "   Comments about yourself (Hostel room number, Class, Department etc.)   \\\n",
       "78                                                Dst                      \n",
       "79                                                 Sr                      \n",
       "\n",
       "                   Your email id   Age  Height (in feet)  Weight (in kgs)  \\\n",
       "78  sudhanshuranjan022@gmail.com  22.0               5.4               60   \n",
       "79                            Sr  23.0               5.4               50   \n",
       "\n",
       "     Sex Are you the only child of your parents?  \\\n",
       "78  Male                                      No   \n",
       "79  Male                                      No   \n",
       "\n",
       "   Where did you spend most of you childhood?  \\\n",
       "78                                       City   \n",
       "79                                       City   \n",
       "\n",
       "                     ...                     \\\n",
       "78                   ...                      \n",
       "79                   ...                      \n",
       "\n",
       "   How confident are you in taking important Decisions?  \\\n",
       "78                                                  1     \n",
       "79                                                  1     \n",
       "\n",
       "    Are you a workaholic?  Which one is more important, friends or money?  \\\n",
       "78                      5                                               2   \n",
       "79                      5                                               1   \n",
       "\n",
       "    How lonely are you?  Your belief in God  How often do you see dreams?  \\\n",
       "78                    1                   1                             1   \n",
       "79                    1                   1                             1   \n",
       "\n",
       "    Do you have a lot of close friends?  \\\n",
       "78                                    1   \n",
       "79                                    1   \n",
       "\n",
       "    How much do you socialize with others ?  \\\n",
       "78                                        1   \n",
       "79                                        1   \n",
       "\n",
       "    Level of your spending on Entertainment  \\\n",
       "78                                        1   \n",
       "79                                        1   \n",
       "\n",
       "                   Internet usage in a day.  \n",
       "78  More than an hour but less than 4 hours  \n",
       "79                        More than 4 hours  \n",
       "\n",
       "[2 rows x 35 columns]"
      ]
     },
     "execution_count": 28,
     "metadata": {},
     "output_type": "execute_result"
    }
   ],
   "source": [
    "df_r=pd.read_csv(\"Responses11.csv\")\n",
    "#df_r=df_r.drop(\"Unnamed: 35\",axis=1)\n",
    "df_r.tail(2)"
   ]
  },
  {
   "cell_type": "code",
   "execution_count": 29,
   "metadata": {},
   "outputs": [],
   "source": [
    "df_r1=df_r[[\"Timestamp\",\"Name\",\"Comments about yourself (Hostel room number, Class, Department etc.) \",\"Your email id\"]]\n",
    "df_r2=df_r.drop([\"Timestamp\",\"Name\",\"Comments about yourself (Hostel room number, Class, Department etc.) \",\"Your email id\"],axis=1)"
   ]
  },
  {
   "cell_type": "code",
   "execution_count": 30,
   "metadata": {},
   "outputs": [],
   "source": [
    "h=[]\n",
    "for i in np.arange(len(df_r2[\"Height (in feet)\"])):\n",
    "    h=np.append(h,(df_r2[\"Height (in feet)\"][i]*30.48))"
   ]
  },
  {
   "cell_type": "code",
   "execution_count": 31,
   "metadata": {},
   "outputs": [],
   "source": [
    "edu=[]\n",
    "for i in (df_r2[\"Highest level of education attained?\"].values):\n",
    "    if i==\"Secondary school\":\n",
    "        edu=np.append(edu,1)\n",
    "    elif i==\"Masters degree\":\n",
    "        edu=np.append(edu,2)\n",
    "    elif i==\"Secondary school\":\n",
    "        edu=np.append(edu,3)\n",
    "    elif i==\"Doctorate degree\":\n",
    "        edu=np.append(edu,4)\n",
    "    else:\n",
    "        edu=np.append(edu,5)"
   ]
  },
  {
   "cell_type": "code",
   "execution_count": 32,
   "metadata": {},
   "outputs": [],
   "source": [
    "a7=[]\n",
    "for i in np.arange(len(df_r2[\"Weight (in kgs)\"])):\n",
    "    a17=h[i]/df_r2[\"Weight (in kgs)\"][i]\n",
    "    a7=np.append(a7,a17)\n",
    "\n",
    "from sklearn import preprocessing\n",
    "sc=preprocessing.MinMaxScaler(feature_range=(1,5))\n",
    "a8=sc.fit_transform(df_r2[\"Age\"].values.reshape(-1,1))\n",
    "\n",
    "a1=[]\n",
    "for i in df_r2[\"Sex\"].values:\n",
    "    if i==\"Female\":\n",
    "        a1=np.append(a1,0)\n",
    "    else:\n",
    "        a1=np.append(a1,1)\n",
    "\n",
    "a2=[]\n",
    "for i in df_r2[\"Are you the only child of your parents?\"].values:\n",
    "    if i==\"No\":\n",
    "        a2=np.append(a2,0)\n",
    "    else :\n",
    "        a2=np.append(a2,1)\n",
    "\n",
    "a3=[]\n",
    "for i in df_r2[\"Where did you spend most of you childhood?\"].values:\n",
    "    if i==\"Village\":\n",
    "        a3=np.append(a3,1)\n",
    "    else:\n",
    "        a3=np.append(a3,0)\n",
    "\n",
    "a4=[]\n",
    "for i in df_r2[\"Internet usage in a day.\"].values:\n",
    "    if i==\"More than an hour but less than 4 hours\":\n",
    "        a4=np.append(a4,0)\n",
    "    elif i==\"More than 4 hours\":\n",
    "        a4=np.append(a4,2)\n",
    "    else :\n",
    "        a4=np.append(a4,1)\n",
    "\n",
    "a5=[]\n",
    "for i in df_r2[\"Do you smoke?\"].values:\n",
    "    if i==\"Never smoked\":\n",
    "        a5=np.append(a5,0)\n",
    "    elif i==\"Tried smoking\":\n",
    "        a5=np.append(a5,1)\n",
    "    elif i==\"Former smoker\":\n",
    "        a5=np.append(a5,2)\n",
    "    else:\n",
    "        a5=np.append(a5,3)\n",
    "\n",
    "a6=[]\n",
    "for i in df_r2[\"Level of alcohol consumption.\"]:\n",
    "    if i==\"Drink a lot\":\n",
    "        a6=np.append(a6,0)\n",
    "    elif i==\"Social drinker\":\n",
    "        a6=np.append(a6,1)\n",
    "    else:\n",
    "        a6=np.append(a6,2)\n",
    "\n",
    "df_r2[\"hw_rat\"]=a7\n",
    "df_r2[\"age\"]=a8\n",
    "df_r2[\"gender\"]=a1\n",
    "df_r2[\"alcohol\"]=a6\n",
    "df_r2[\"smoke\"]=a5\n",
    "df_r2[\"only_child\"]=a2\n",
    "df_r2[\"area\"]=a3\n",
    "df_r2[\"internet\"]=a4\n",
    "df_r2[\"education\"]=edu\n",
    "\n",
    "df_r2=df_r2.drop([\"Weight (in kgs)\",\"Age\",\"Sex\",\"Are you the only child of your parents?\",\"Internet usage in a day.\",\"Do you smoke?\",\"Where did you spend most of you childhood?\",\"Level of alcohol consumption.\"],axis=1)\n",
    "df_r2=df_r2.drop([\"Highest level of education attained?\"],axis=1)"
   ]
  },
  {
   "cell_type": "code",
   "execution_count": 33,
   "metadata": {},
   "outputs": [],
   "source": [
    "df_r2=df_r2.drop([\"Height (in feet)\"],axis=1)"
   ]
  },
  {
   "cell_type": "code",
   "execution_count": 34,
   "metadata": {},
   "outputs": [],
   "source": [
    "r0=(np.mean(df_r2))\n",
    "r1=r0.index\n",
    "r2=r0.values"
   ]
  },
  {
   "cell_type": "code",
   "execution_count": 35,
   "metadata": {},
   "outputs": [],
   "source": [
    "df_r21=df_r2\n",
    "df_r2=replacer_mean(df_r21)"
   ]
  },
  {
   "cell_type": "markdown",
   "metadata": {},
   "source": [
    "# predicting the responses"
   ]
  },
  {
   "cell_type": "code",
   "execution_count": 36,
   "metadata": {},
   "outputs": [
    {
     "data": {
      "text/plain": [
       "XGBClassifier(base_score=0.5, booster='dart', colsample_bylevel=1,\n",
       "       colsample_bynode=1, colsample_bytree=0.4, gamma=0.2,\n",
       "       learning_rate=0.1, max_delta_step=0, max_depth=2,\n",
       "       min_child_weight=3, missing=None, n_estimators=100, n_jobs=1,\n",
       "       nthread=None, objective='multi:softprob', random_state=0,\n",
       "       reg_alpha=0.2, reg_lambda=1, scale_pos_weight=1, seed=None,\n",
       "       silent=None, subsample=1, verbosity=1)"
      ]
     },
     "execution_count": 36,
     "metadata": {},
     "output_type": "execute_result"
    }
   ],
   "source": [
    "model_xg"
   ]
  },
  {
   "cell_type": "code",
   "execution_count": 37,
   "metadata": {},
   "outputs": [],
   "source": [
    "xr=df_r2.values"
   ]
  },
  {
   "cell_type": "code",
   "execution_count": 38,
   "metadata": {},
   "outputs": [
    {
     "data": {
      "text/html": [
       "<div>\n",
       "<style scoped>\n",
       "    .dataframe tbody tr th:only-of-type {\n",
       "        vertical-align: middle;\n",
       "    }\n",
       "\n",
       "    .dataframe tbody tr th {\n",
       "        vertical-align: top;\n",
       "    }\n",
       "\n",
       "    .dataframe thead th {\n",
       "        text-align: right;\n",
       "    }\n",
       "</style>\n",
       "<table border=\"1\" class=\"dataframe\">\n",
       "  <thead>\n",
       "    <tr style=\"text-align: right;\">\n",
       "      <th></th>\n",
       "      <th>Name</th>\n",
       "      <th>index of happiness</th>\n",
       "    </tr>\n",
       "  </thead>\n",
       "  <tbody>\n",
       "    <tr>\n",
       "      <th>0</th>\n",
       "      <td>Bharat kurde</td>\n",
       "      <td>2</td>\n",
       "    </tr>\n",
       "    <tr>\n",
       "      <th>1</th>\n",
       "      <td>SHIVAM KUMAR GUPTA</td>\n",
       "      <td>3</td>\n",
       "    </tr>\n",
       "    <tr>\n",
       "      <th>2</th>\n",
       "      <td>Sneha Rao</td>\n",
       "      <td>3</td>\n",
       "    </tr>\n",
       "    <tr>\n",
       "      <th>3</th>\n",
       "      <td>Ankit Pratap Singh</td>\n",
       "      <td>1</td>\n",
       "    </tr>\n",
       "    <tr>\n",
       "      <th>4</th>\n",
       "      <td>Nancy yadav</td>\n",
       "      <td>3</td>\n",
       "    </tr>\n",
       "  </tbody>\n",
       "</table>\n",
       "</div>"
      ],
      "text/plain": [
       "                 Name index of happiness\n",
       "0        Bharat kurde                  2\n",
       "1  SHIVAM KUMAR GUPTA                  3\n",
       "2          Sneha Rao                   3\n",
       "3  Ankit Pratap Singh                  1\n",
       "4         Nancy yadav                  3"
      ]
     },
     "execution_count": 38,
     "metadata": {},
     "output_type": "execute_result"
    }
   ],
   "source": [
    "yr_pre=model_xg.predict(xr)\n",
    "dfr_pre=DataFrame([df_r1[\"Name\"].values,yr_pre],index=[\"Name\",\"index of happiness\"]).T\n",
    "dfr_pre[0:5]"
   ]
  },
  {
   "cell_type": "markdown",
   "metadata": {},
   "source": [
    "# A bayesian approach to improve my model"
   ]
  },
  {
   "cell_type": "code",
   "execution_count": 39,
   "metadata": {},
   "outputs": [],
   "source": [
    "t11=((df1).describe()).T[\"mean\"].values        #searching for prior\n",
    "t22=((df_r2).describe()).T[\"mean\"].values\n",
    "t1=(t11+t22)/2"
   ]
  },
  {
   "cell_type": "code",
   "execution_count": 40,
   "metadata": {},
   "outputs": [],
   "source": [
    "#np.corrcoef(df1[\"music\"],df1[\"movie\"])[0,1]\n",
    "df1[\"y\"]=y1"
   ]
  },
  {
   "cell_type": "code",
   "execution_count": 41,
   "metadata": {},
   "outputs": [],
   "source": [
    "t44=(df2.corr()[\"y\"].values[:-1])"
   ]
  },
  {
   "cell_type": "code",
   "execution_count": 42,
   "metadata": {},
   "outputs": [],
   "source": [
    "df1=df1.drop(\"y\",axis=1)"
   ]
  },
  {
   "cell_type": "code",
   "execution_count": 43,
   "metadata": {},
   "outputs": [
    {
     "data": {
      "text/plain": [
       "[<matplotlib.lines.Line2D at 0x124d4866240>]"
      ]
     },
     "execution_count": 43,
     "metadata": {},
     "output_type": "execute_result"
    },
    {
     "data": {
      "image/png": "[encoded data removed]",
      "text/plain": [
       "<Figure size 432x288 with 1 Axes>"
      ]
     },
     "metadata": {
      "needs_background": "light"
     },
     "output_type": "display_data"
    }
   ],
   "source": [
    "#sns.kdeplot(t11)\n",
    "#sns.kdeplot(t22)\n",
    "#sns.kdeplot(t1)\n",
    "plt.plot(t44)"
   ]
  },
  {
   "cell_type": "code",
   "execution_count": 44,
   "metadata": {},
   "outputs": [],
   "source": [
    "t22=(t44)"
   ]
  },
  {
   "cell_type": "code",
   "execution_count": 45,
   "metadata": {},
   "outputs": [
    {
     "data": {
      "text/plain": [
       "array([ 0.12019862,  0.06307306,  0.19603548,  0.1211978 , -0.11544976,\n",
       "        0.06433835, -0.06930623, -0.18060107,  0.14349554,  0.12813107,\n",
       "       -0.03125441,  0.08153359,  0.07923903, -0.43605991,  0.09460867,\n",
       "        0.20908083,  0.32054071,  0.16279441,  0.12550524, -0.0058829 ,\n",
       "        0.03345017,  0.03450089, -0.03323027,  0.01685588, -0.02287633,\n",
       "        0.03081225, -0.11526539,  0.07928801,  0.02366298, -0.06539079])"
      ]
     },
     "execution_count": 45,
     "metadata": {},
     "output_type": "execute_result"
    }
   ],
   "source": [
    "t22"
   ]
  },
  {
   "cell_type": "code",
   "execution_count": 46,
   "metadata": {},
   "outputs": [],
   "source": [
    "df11=df1*t22\n",
    "x11=df11.values\n",
    "y11=dfy.values*1"
   ]
  },
  {
   "cell_type": "code",
   "execution_count": 47,
   "metadata": {},
   "outputs": [],
   "source": [
    "y22=[]\n",
    "for i in np.arange(len(y11)):\n",
    "    if (y11[i]<2.5):\n",
    "        y22=np.append(y22,1)\n",
    "    elif (y11[i]>3.5):\n",
    "        y22=np.append(y22,3)\n",
    "    else:\n",
    "        y22=np.append(y22,2)"
   ]
  },
  {
   "cell_type": "code",
   "execution_count": 48,
   "metadata": {},
   "outputs": [
    {
     "data": {
      "text/plain": [
       "XGBClassifier(base_score=0.5, booster='dart', colsample_bylevel=1,\n",
       "       colsample_bynode=1, colsample_bytree=0.4, gamma=0.2,\n",
       "       learning_rate=0.1, max_delta_step=0, max_depth=2,\n",
       "       min_child_weight=3, missing=None, n_estimators=100, n_jobs=1,\n",
       "       nthread=None, objective='multi:softprob', random_state=0,\n",
       "       reg_alpha=0.2, reg_lambda=1, scale_pos_weight=1, seed=None,\n",
       "       silent=None, subsample=1, verbosity=1)"
      ]
     },
     "execution_count": 48,
     "metadata": {},
     "output_type": "execute_result"
    }
   ],
   "source": [
    "x_train,x_test,y_train,y_test=train_test_split(x11,y22,test_size=0.33,random_state=42)\n",
    "model_xg11=xgb.XGBClassifier(base_score=0.5, \n",
    "                           booster='dart', \n",
    "                           colsample_bylevel=1,\n",
    "                           colsample_bynode=1, \n",
    "                           colsample_bytree=.4,\n",
    "                           gamma=0.2,\n",
    "                           importance_type='gain', \n",
    "                           learning_rate=0.1, \n",
    "                           max_delta_step=0,\n",
    "                           max_depth=2, min_child_weight=3, missing=None, n_estimators=100,\n",
    "                           n_jobs=1, nthread=None, objective='reg:linear', random_state=0,\n",
    "                           reg_alpha=.2, reg_lambda=1, scale_pos_weight=1, seed=None,\n",
    "                           silent=None, subsample=1, verbosity=1)\n",
    "\n",
    "model_xg11.fit(x_train,y_train)"
   ]
  },
  {
   "cell_type": "code",
   "execution_count": 49,
   "metadata": {},
   "outputs": [
    {
     "data": {
      "text/plain": [
       "0.7588757396449705"
      ]
     },
     "execution_count": 49,
     "metadata": {},
     "output_type": "execute_result"
    }
   ],
   "source": [
    "y_pre=model_xg11.predict(x_train)\n",
    "accuracy_score(numriser(DataFrame(y_pre)[0].values),(numriser(DataFrame(y_train)[0].values)))"
   ]
  },
  {
   "cell_type": "code",
   "execution_count": 50,
   "metadata": {},
   "outputs": [
    {
     "data": {
      "text/plain": [
       "0.7035928143712575"
      ]
     },
     "execution_count": 50,
     "metadata": {},
     "output_type": "execute_result"
    }
   ],
   "source": [
    "y_pre1=model_xg11.predict(x_test)\n",
    "accuracy_score(numriser(DataFrame(y_pre1)[0].values),(numriser(DataFrame(y_test)[0].values)))"
   ]
  },
  {
   "cell_type": "code",
   "execution_count": 51,
   "metadata": {},
   "outputs": [],
   "source": [
    "#df_pre1"
   ]
  },
  {
   "cell_type": "code",
   "execution_count": 52,
   "metadata": {},
   "outputs": [
    {
     "data": {
      "text/plain": [
       "<matplotlib.legend.Legend at 0x124d4866940>"
      ]
     },
     "execution_count": 52,
     "metadata": {},
     "output_type": "execute_result"
    },
    {
     "data": {
      "image/png": "[encoded data removed]",
      "text/plain": [
       "<Figure size 1080x360 with 1 Axes>"
      ]
     },
     "metadata": {
      "needs_background": "light"
     },
     "output_type": "display_data"
    }
   ],
   "source": [
    "df_pre1=DataFrame([numriser(DataFrame(y_pre1)[0].values),DataFrame(y_test)[0].values],index=[\"predicted\",\"observed\"]).T\n",
    "df_pre1[\"predicted\"].plot(kind=\"kde\",label=True,figsize=(15,5),alpha=1)\n",
    "df_pre1[\"observed\"].plot(kind=\"kde\",label=True,figsize=(15,5),alpha=1)\n",
    "plt.title(\"predicted label of happiness\",fontsize=20)\n",
    "plt.xlabel(\"labels of happiness \",fontsize=20)\n",
    "plt.ylabel(\"frequency\",fontsize=20)\n",
    "plt.legend([\"predicted\",\"observed\"])"
   ]
  },
  {
   "cell_type": "code",
   "execution_count": 53,
   "metadata": {},
   "outputs": [
    {
     "data": {
      "text/html": [
       "<div>\n",
       "<style scoped>\n",
       "    .dataframe tbody tr th:only-of-type {\n",
       "        vertical-align: middle;\n",
       "    }\n",
       "\n",
       "    .dataframe tbody tr th {\n",
       "        vertical-align: top;\n",
       "    }\n",
       "\n",
       "    .dataframe thead th {\n",
       "        text-align: right;\n",
       "    }\n",
       "</style>\n",
       "<table border=\"1\" class=\"dataframe\">\n",
       "  <thead>\n",
       "    <tr style=\"text-align: right;\">\n",
       "      <th></th>\n",
       "      <th>Name</th>\n",
       "      <th>index of happiness</th>\n",
       "    </tr>\n",
       "  </thead>\n",
       "  <tbody>\n",
       "    <tr>\n",
       "      <th>76</th>\n",
       "      <td>Chandra Prakash</td>\n",
       "      <td>3</td>\n",
       "    </tr>\n",
       "    <tr>\n",
       "      <th>77</th>\n",
       "      <td>Ranjeet</td>\n",
       "      <td>3</td>\n",
       "    </tr>\n",
       "    <tr>\n",
       "      <th>78</th>\n",
       "      <td>Sudhanshu Ranjan</td>\n",
       "      <td>1</td>\n",
       "    </tr>\n",
       "    <tr>\n",
       "      <th>79</th>\n",
       "      <td>Sr</td>\n",
       "      <td>1</td>\n",
       "    </tr>\n",
       "  </tbody>\n",
       "</table>\n",
       "</div>"
      ],
      "text/plain": [
       "                Name index of happiness\n",
       "76   Chandra Prakash                  3\n",
       "77           Ranjeet                  3\n",
       "78  Sudhanshu Ranjan                  1\n",
       "79                Sr                  1"
      ]
     },
     "execution_count": 53,
     "metadata": {},
     "output_type": "execute_result"
    }
   ],
   "source": [
    "yr_pre=model_xg11.predict(xr*t22)\n",
    "dfr_pre=DataFrame([df_r1[\"Name\"].values,yr_pre],index=[\"Name\",\"index of happiness\"]).T\n",
    "dfr_pre.tail(4)"
   ]
  },
  {
   "cell_type": "code",
   "execution_count": 54,
   "metadata": {},
   "outputs": [
    {
     "data": {
      "text/html": [
       "<div>\n",
       "<style scoped>\n",
       "    .dataframe tbody tr th:only-of-type {\n",
       "        vertical-align: middle;\n",
       "    }\n",
       "\n",
       "    .dataframe tbody tr th {\n",
       "        vertical-align: top;\n",
       "    }\n",
       "\n",
       "    .dataframe thead th {\n",
       "        text-align: right;\n",
       "    }\n",
       "</style>\n",
       "<table border=\"1\" class=\"dataframe\">\n",
       "  <thead>\n",
       "    <tr style=\"text-align: right;\">\n",
       "      <th></th>\n",
       "      <th>Name</th>\n",
       "      <th>index of happiness</th>\n",
       "    </tr>\n",
       "  </thead>\n",
       "  <tbody>\n",
       "  </tbody>\n",
       "</table>\n",
       "</div>"
      ],
      "text/plain": [
       "Empty DataFrame\n",
       "Columns: [Name, index of happiness]\n",
       "Index: []"
      ]
     },
     "execution_count": 54,
     "metadata": {},
     "output_type": "execute_result"
    }
   ],
   "source": [
    "dfr_pre.sort_values(by=[\"index of happiness\"],ascending=True)[1:1]"
   ]
  },
  {
   "cell_type": "code",
   "execution_count": 55,
   "metadata": {},
   "outputs": [
    {
     "data": {
      "text/html": [
       "<div>\n",
       "<style scoped>\n",
       "    .dataframe tbody tr th:only-of-type {\n",
       "        vertical-align: middle;\n",
       "    }\n",
       "\n",
       "    .dataframe tbody tr th {\n",
       "        vertical-align: top;\n",
       "    }\n",
       "\n",
       "    .dataframe thead th {\n",
       "        text-align: right;\n",
       "    }\n",
       "</style>\n",
       "<table border=\"1\" class=\"dataframe\">\n",
       "  <thead>\n",
       "    <tr style=\"text-align: right;\">\n",
       "      <th></th>\n",
       "      <th>Name</th>\n",
       "      <th>index of happiness</th>\n",
       "    </tr>\n",
       "  </thead>\n",
       "  <tbody>\n",
       "    <tr>\n",
       "      <th>0</th>\n",
       "      <td>Bharat kurde</td>\n",
       "      <td>3</td>\n",
       "    </tr>\n",
       "  </tbody>\n",
       "</table>\n",
       "</div>"
      ],
      "text/plain": [
       "           Name index of happiness\n",
       "0  Bharat kurde                  3"
      ]
     },
     "execution_count": 55,
     "metadata": {},
     "output_type": "execute_result"
    }
   ],
   "source": [
    "dfr_pre.sort_values(by=[\"index of happiness\"],ascending=False)[0:1]"
   ]
  },
  {
   "cell_type": "code",
   "execution_count": 56,
   "metadata": {},
   "outputs": [],
   "source": [
    "from sklearn import preprocessing\n",
    "sc=preprocessing.StandardScaler()\n",
    "y33=sc.fit_transform(y1.reshape(-1,1))"
   ]
  },
  {
   "cell_type": "code",
   "execution_count": 57,
   "metadata": {},
   "outputs": [],
   "source": [
    "model_xg3=LinearRegression(normalize=True)"
   ]
  },
  {
   "cell_type": "code",
   "execution_count": 58,
   "metadata": {},
   "outputs": [
    {
     "data": {
      "text/plain": [
       "LinearRegression(copy_X=True, fit_intercept=True, n_jobs=None, normalize=True)"
      ]
     },
     "execution_count": 58,
     "metadata": {},
     "output_type": "execute_result"
    }
   ],
   "source": [
    "model_xg3.fit(x11,y22)"
   ]
  },
  {
   "cell_type": "code",
   "execution_count": 59,
   "metadata": {},
   "outputs": [
    {
     "data": {
      "text/plain": [
       "0.6574257425742575"
      ]
     },
     "execution_count": 59,
     "metadata": {},
     "output_type": "execute_result"
    }
   ],
   "source": [
    "y_pre1=model_xg3.predict(x11)\n",
    "accuracy_score(numriser(DataFrame(y_pre1)[0].values),(numriser(DataFrame(y22)[0].values)))"
   ]
  },
  {
   "cell_type": "code",
   "execution_count": 60,
   "metadata": {},
   "outputs": [],
   "source": [
    "yr_pre=model_xg3.predict(xr*t22)\n",
    "dfi_pre=DataFrame([df_r1[\"Name\"].values,yr_pre],index=[\"Name\",\"index of happiness\"]).T"
   ]
  },
  {
   "cell_type": "code",
   "execution_count": 61,
   "metadata": {},
   "outputs": [
    {
     "data": {
      "text/html": [
       "<div>\n",
       "<style scoped>\n",
       "    .dataframe tbody tr th:only-of-type {\n",
       "        vertical-align: middle;\n",
       "    }\n",
       "\n",
       "    .dataframe tbody tr th {\n",
       "        vertical-align: top;\n",
       "    }\n",
       "\n",
       "    .dataframe thead th {\n",
       "        text-align: right;\n",
       "    }\n",
       "</style>\n",
       "<table border=\"1\" class=\"dataframe\">\n",
       "  <thead>\n",
       "    <tr style=\"text-align: right;\">\n",
       "      <th></th>\n",
       "      <th>Name</th>\n",
       "      <th>index of happiness</th>\n",
       "    </tr>\n",
       "  </thead>\n",
       "  <tbody>\n",
       "    <tr>\n",
       "      <th>32</th>\n",
       "      <td>Vivek kumar</td>\n",
       "      <td>3.0929</td>\n",
       "    </tr>\n",
       "    <tr>\n",
       "      <th>10</th>\n",
       "      <td>Dwaipayan Bhattacharya</td>\n",
       "      <td>3.05563</td>\n",
       "    </tr>\n",
       "    <tr>\n",
       "      <th>72</th>\n",
       "      <td>Krishnan</td>\n",
       "      <td>3.0497</td>\n",
       "    </tr>\n",
       "    <tr>\n",
       "      <th>42</th>\n",
       "      <td>DEEPANKER KUMAR</td>\n",
       "      <td>2.96826</td>\n",
       "    </tr>\n",
       "    <tr>\n",
       "      <th>27</th>\n",
       "      <td>Aparna Sethi</td>\n",
       "      <td>2.95159</td>\n",
       "    </tr>\n",
       "    <tr>\n",
       "      <th>68</th>\n",
       "      <td>XYZ</td>\n",
       "      <td>2.94703</td>\n",
       "    </tr>\n",
       "    <tr>\n",
       "      <th>6</th>\n",
       "      <td>Akshay</td>\n",
       "      <td>2.92314</td>\n",
       "    </tr>\n",
       "    <tr>\n",
       "      <th>25</th>\n",
       "      <td>Sreetama</td>\n",
       "      <td>2.91893</td>\n",
       "    </tr>\n",
       "    <tr>\n",
       "      <th>11</th>\n",
       "      <td>Nidhi kumari</td>\n",
       "      <td>2.91688</td>\n",
       "    </tr>\n",
       "    <tr>\n",
       "      <th>52</th>\n",
       "      <td>चिराग</td>\n",
       "      <td>2.88488</td>\n",
       "    </tr>\n",
       "    <tr>\n",
       "      <th>4</th>\n",
       "      <td>Nancy yadav</td>\n",
       "      <td>2.88053</td>\n",
       "    </tr>\n",
       "    <tr>\n",
       "      <th>62</th>\n",
       "      <td>Veer</td>\n",
       "      <td>2.8492</td>\n",
       "    </tr>\n",
       "    <tr>\n",
       "      <th>12</th>\n",
       "      <td>Sougata Seth</td>\n",
       "      <td>2.8428</td>\n",
       "    </tr>\n",
       "    <tr>\n",
       "      <th>73</th>\n",
       "      <td>Sonam Jaiswal</td>\n",
       "      <td>2.83234</td>\n",
       "    </tr>\n",
       "  </tbody>\n",
       "</table>\n",
       "</div>"
      ],
      "text/plain": [
       "                      Name index of happiness\n",
       "32             Vivek kumar             3.0929\n",
       "10  Dwaipayan Bhattacharya            3.05563\n",
       "72                Krishnan             3.0497\n",
       "42         DEEPANKER KUMAR            2.96826\n",
       "27            Aparna Sethi            2.95159\n",
       "68                     XYZ            2.94703\n",
       "6                   Akshay            2.92314\n",
       "25                Sreetama            2.91893\n",
       "11            Nidhi kumari            2.91688\n",
       "52                  चिराग             2.88488\n",
       "4              Nancy yadav            2.88053\n",
       "62                    Veer             2.8492\n",
       "12            Sougata Seth             2.8428\n",
       "73           Sonam Jaiswal            2.83234"
      ]
     },
     "execution_count": 61,
     "metadata": {},
     "output_type": "execute_result"
    }
   ],
   "source": [
    "dfi_pre.sort_values(by=[\"index of happiness\"],ascending=False)[1:15]"
   ]
  },
  {
   "cell_type": "code",
   "execution_count": 62,
   "metadata": {},
   "outputs": [],
   "source": [
    "#dfi_pre.sort_values(by=[\"index of happiness\"],ascending=False)[0:15]"
   ]
  },
  {
   "cell_type": "code",
   "execution_count": 63,
   "metadata": {},
   "outputs": [],
   "source": [
    "#happiness(\"gaurav kumar gupta\")"
   ]
  },
  {
   "cell_type": "code",
   "execution_count": 64,
   "metadata": {},
   "outputs": [
    {
     "data": {
      "text/html": [
       "<div>\n",
       "<style scoped>\n",
       "    .dataframe tbody tr th:only-of-type {\n",
       "        vertical-align: middle;\n",
       "    }\n",
       "\n",
       "    .dataframe tbody tr th {\n",
       "        vertical-align: top;\n",
       "    }\n",
       "\n",
       "    .dataframe thead th {\n",
       "        text-align: right;\n",
       "    }\n",
       "</style>\n",
       "<table border=\"1\" class=\"dataframe\">\n",
       "  <thead>\n",
       "    <tr style=\"text-align: right;\">\n",
       "      <th></th>\n",
       "      <th>Name</th>\n",
       "      <th>index of happiness</th>\n",
       "    </tr>\n",
       "  </thead>\n",
       "  <tbody>\n",
       "    <tr>\n",
       "      <th>78</th>\n",
       "      <td>Sudhanshu Ranjan</td>\n",
       "      <td>1</td>\n",
       "    </tr>\n",
       "    <tr>\n",
       "      <th>15</th>\n",
       "      <td>Rituraj singh</td>\n",
       "      <td>1</td>\n",
       "    </tr>\n",
       "    <tr>\n",
       "      <th>46</th>\n",
       "      <td>Vishal kashyap</td>\n",
       "      <td>2</td>\n",
       "    </tr>\n",
       "    <tr>\n",
       "      <th>35</th>\n",
       "      <td>Shashank manojkumar singh</td>\n",
       "      <td>2</td>\n",
       "    </tr>\n",
       "    <tr>\n",
       "      <th>24</th>\n",
       "      <td>Simran</td>\n",
       "      <td>2</td>\n",
       "    </tr>\n",
       "    <tr>\n",
       "      <th>43</th>\n",
       "      <td>Boda Mahender</td>\n",
       "      <td>2</td>\n",
       "    </tr>\n",
       "    <tr>\n",
       "      <th>19</th>\n",
       "      <td>Ajit Raj</td>\n",
       "      <td>2</td>\n",
       "    </tr>\n",
       "    <tr>\n",
       "      <th>18</th>\n",
       "      <td>Pratyush Bhowmik</td>\n",
       "      <td>2</td>\n",
       "    </tr>\n",
       "    <tr>\n",
       "      <th>14</th>\n",
       "      <td>MAHESH KUMAR PANDEY</td>\n",
       "      <td>2</td>\n",
       "    </tr>\n",
       "    <tr>\n",
       "      <th>12</th>\n",
       "      <td>Sougata Seth</td>\n",
       "      <td>2</td>\n",
       "    </tr>\n",
       "    <tr>\n",
       "      <th>45</th>\n",
       "      <td>Arun Kumar Tiwary</td>\n",
       "      <td>2</td>\n",
       "    </tr>\n",
       "    <tr>\n",
       "      <th>1</th>\n",
       "      <td>SHIVAM KUMAR GUPTA</td>\n",
       "      <td>2</td>\n",
       "    </tr>\n",
       "    <tr>\n",
       "      <th>3</th>\n",
       "      <td>Ankit Pratap Singh</td>\n",
       "      <td>2</td>\n",
       "    </tr>\n",
       "    <tr>\n",
       "      <th>75</th>\n",
       "      <td>Ashish Mishra</td>\n",
       "      <td>2</td>\n",
       "    </tr>\n",
       "    <tr>\n",
       "      <th>70</th>\n",
       "      <td>Priyanshavi Singh</td>\n",
       "      <td>3</td>\n",
       "    </tr>\n",
       "  </tbody>\n",
       "</table>\n",
       "</div>"
      ],
      "text/plain": [
       "                         Name index of happiness\n",
       "78           Sudhanshu Ranjan                  1\n",
       "15              Rituraj singh                  1\n",
       "46             Vishal kashyap                  2\n",
       "35  Shashank manojkumar singh                  2\n",
       "24                     Simran                  2\n",
       "43              Boda Mahender                  2\n",
       "19                   Ajit Raj                  2\n",
       "18           Pratyush Bhowmik                  2\n",
       "14        MAHESH KUMAR PANDEY                  2\n",
       "12               Sougata Seth                  2\n",
       "45          Arun Kumar Tiwary                  2\n",
       "1          SHIVAM KUMAR GUPTA                  2\n",
       "3          Ankit Pratap Singh                  2\n",
       "75              Ashish Mishra                  2\n",
       "70         Priyanshavi Singh                   3"
      ]
     },
     "execution_count": 64,
     "metadata": {},
     "output_type": "execute_result"
    }
   ],
   "source": [
    "dfr_pre.sort_values(by=[\"index of happiness\"],ascending=True)[1:16]"
   ]
  },
  {
   "cell_type": "code",
   "execution_count": 65,
   "metadata": {},
   "outputs": [
    {
     "name": "stdout",
     "output_type": "stream",
     "text": [
      "1            SHIVAM KUMAR GUPTA\n",
      "3            Ankit Pratap Singh\n",
      "12                 Sougata Seth\n",
      "14          MAHESH KUMAR PANDEY\n",
      "18             Pratyush Bhowmik\n",
      "19                     Ajit Raj\n",
      "24                       Simran\n",
      "35    Shashank manojkumar singh\n",
      "43                Boda Mahender\n",
      "45            Arun Kumar Tiwary\n",
      "46               Vishal kashyap\n",
      "75                Ashish Mishra\n",
      "Name: Name, dtype: object\n"
     ]
    }
   ],
   "source": [
    "n=2                   #change the value  of n \n",
    "ind=np.where(dfr_pre[\"index of happiness\"]==n)\n",
    "for i in  ind:\n",
    "    print(dfr_pre[\"Name\"][i])"
   ]
  },
  {
   "cell_type": "code",
   "execution_count": 66,
   "metadata": {},
   "outputs": [
    {
     "name": "stdout",
     "output_type": "stream",
     "text": [
      "Srijita Acharyya you are very happy and your index of happiness is  2.682367685446977 .\n"
     ]
    }
   ],
   "source": [
    "happiness(\"Srijita Acharyya\")"
   ]
  },
  {
   "cell_type": "code",
   "execution_count": 67,
   "metadata": {},
   "outputs": [
    {
     "name": "stdout",
     "output_type": "stream",
     "text": [
      "Anchita Goswami you are very happy and your index of happiness is  2.7939638935970725 .\n"
     ]
    }
   ],
   "source": [
    "happiness(\"Anchita Goswami\")"
   ]
  },
  {
   "cell_type": "markdown",
   "metadata": {},
   "source": [
    "# post hoc analysis"
   ]
  },
  {
   "cell_type": "code",
   "execution_count": 80,
   "metadata": {},
   "outputs": [],
   "source": [
    "#dfi_pre[\"index of happiness\"]\n",
    "for i in np.arange(len(df_r2[\"gender\"].values)):\n",
    "    if df_r2[\"gender\"][i]==\"0\":\n",
    "        s1=s1+df_r2[\"gender\"][i]\n",
    "f=np.where(df_r2[\"gender\"]==0)\n",
    "m=np.where(df_r2[\"gender\"]==1)\n",
    "fi=[]\n",
    "mi=[]\n",
    "for i in f:\n",
    "    fi=np.append(fi,dfi_pre[\"index of happiness\"][i])\n",
    "for j in m:\n",
    "    mi=np.append(mi,dfi_pre[\"index of happiness\"][j])"
   ]
  },
  {
   "cell_type": "code",
   "execution_count": 87,
   "metadata": {},
   "outputs": [],
   "source": [
    "f1=np.mean(fi)\n",
    "m1=np.mean(mi)\n",
    "s1=np.var(fi)\n",
    "s2=np.var(mi)\n",
    "n1=len(fi)\n",
    "n2=len(mi)"
   ]
  },
  {
   "cell_type": "code",
   "execution_count": 91,
   "metadata": {},
   "outputs": [],
   "source": [
    "t_cal=(m1-f1)/np.sqrt((s1/n1)+(s2/n2))"
   ]
  },
  {
   "cell_type": "code",
   "execution_count": 96,
   "metadata": {},
   "outputs": [],
   "source": [
    "alpha=.05\n",
    "t_tab=stats.t.ppf(1-alpha,n1+n2-2)"
   ]
  },
  {
   "cell_type": "code",
   "execution_count": 97,
   "metadata": {},
   "outputs": [
    {
     "name": "stdout",
     "output_type": "stream",
     "text": [
      "we fail to reject the null hypothesis \n"
     ]
    }
   ],
   "source": [
    "if t_cal>t_tab:\n",
    "    print(\"Ho will be rejected\")\n",
    "else:\n",
    "    print(\"we fail to reject the null hypothesis \")"
   ]
  },
  {
   "cell_type": "code",
   "execution_count": 138,
   "metadata": {},
   "outputs": [
    {
     "data": {
      "text/plain": [
       "[2.5405358213644043, 2.6942427908690676]"
      ]
     },
     "execution_count": 138,
     "metadata": {},
     "output_type": "execute_result"
    }
   ],
   "source": [
    "#this means males are significantly less happier then female\n",
    "[m1,f1]"
   ]
  },
  {
   "cell_type": "code",
   "execution_count": 117,
   "metadata": {},
   "outputs": [],
   "source": [
    "a1=[]\n",
    "a2=[]\n",
    "a3=[]\n",
    "for i in np.arange(len(df_r[\"Age\"].values)):\n",
    "    if df_r[\"Age\"][i]<21:\n",
    "        a1=np.append(a1,dfi_pre[\"index of happiness\"][i])\n",
    "    elif df_r[\"Age\"][i]>25:\n",
    "        a3=np.append(a3,dfi_pre[\"index of happiness\"][i])\n",
    "    else:\n",
    "        a2=np.append(a2,dfi_pre[\"index of happiness\"][i])"
   ]
  },
  {
   "cell_type": "code",
   "execution_count": 118,
   "metadata": {},
   "outputs": [
    {
     "data": {
      "text/plain": [
       "array([2.38684889, 2.55096108, 2.80399188, 2.59896764, 3.04970061])"
      ]
     },
     "execution_count": 118,
     "metadata": {},
     "output_type": "execute_result"
    }
   ],
   "source": [
    "a1"
   ]
  },
  {
   "cell_type": "code",
   "execution_count": 119,
   "metadata": {},
   "outputs": [
    {
     "data": {
      "text/plain": [
       "F_onewayResult(statistic=0.5767752558713642, pvalue=0.5641147781878191)"
      ]
     },
     "execution_count": 119,
     "metadata": {},
     "output_type": "execute_result"
    }
   ],
   "source": [
    "stats.f_oneway(a1,a2,a3)"
   ]
  },
  {
   "cell_type": "code",
   "execution_count": null,
   "metadata": {},
   "outputs": [],
   "source": [
    "#so clearly at least one effect is signifcant"
   ]
  },
  {
   "cell_type": "code",
   "execution_count": 124,
   "metadata": {},
   "outputs": [
    {
     "data": {
      "text/plain": [
       "Ttest_indResult(statistic=0.5747200196071682, pvalue=0.5672476804814869)"
      ]
     },
     "execution_count": 124,
     "metadata": {},
     "output_type": "execute_result"
    }
   ],
   "source": [
    "stats.ttest_ind(a1,a2,equal_var=False)"
   ]
  },
  {
   "cell_type": "code",
   "execution_count": 125,
   "metadata": {},
   "outputs": [
    {
     "data": {
      "text/plain": [
       "Ttest_indResult(statistic=-0.4316188919383656, pvalue=0.6844743110886573)"
      ]
     },
     "execution_count": 125,
     "metadata": {},
     "output_type": "execute_result"
    }
   ],
   "source": [
    "stats.ttest_ind(a1,a3,equal_var=False)"
   ]
  },
  {
   "cell_type": "code",
   "execution_count": 126,
   "metadata": {},
   "outputs": [
    {
     "data": {
      "text/plain": [
       "Ttest_indResult(statistic=2.544179597538387, pvalue=0.02101437949940729)"
      ]
     },
     "execution_count": 126,
     "metadata": {},
     "output_type": "execute_result"
    }
   ],
   "source": [
    "stats.ttest_ind(a3,a2,equal_var=False)"
   ]
  },
  {
   "cell_type": "code",
   "execution_count": null,
   "metadata": {},
   "outputs": [],
   "source": [
    "#so age group 21 to 25 (a2) is significantly less happier than other age group"
   ]
  },
  {
   "cell_type": "code",
   "execution_count": 130,
   "metadata": {},
   "outputs": [
    {
     "data": {
      "text/plain": [
       "[2.678094019269161, 2.589635564301465, 2.730047221071572]"
      ]
     },
     "execution_count": 130,
     "metadata": {},
     "output_type": "execute_result"
    }
   ],
   "source": [
    "[np.mean(a1),np.mean(a2),np.mean(a3)]"
   ]
  },
  {
   "cell_type": "code",
   "execution_count": null,
   "metadata": {},
   "outputs": [],
   "source": []
  },
  {
   "cell_type": "code",
   "execution_count": null,
   "metadata": {},
   "outputs": [],
   "source": []
  }
 ],
 "metadata": {
  "kernelspec": {
   "display_name": "Python 3",
   "language": "python",
   "name": "python3"
  },
  "language_info": {
   "codemirror_mode": {
    "name": "ipython",
    "version": 3
   },
   "file_extension": ".py",
   "mimetype": "text/x-python",
   "name": "python",
   "nbconvert_exporter": "python",
   "pygments_lexer": "ipython3",
   "version": "3.7.1"
  }
 },
 "nbformat": 4,
 "nbformat_minor": 2
}
